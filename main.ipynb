{
 "cells": [
  {
   "attachments": {},
   "cell_type": "markdown",
   "metadata": {},
   "source": [
    "# Análise de dados com Pandas"
   ]
  },
  {
   "cell_type": "code",
   "execution_count": null,
   "metadata": {},
   "outputs": [],
   "source": [
    "import pandas as pd\n",
    "import numpy as np\n",
    "import seaborn as sns\n",
    "from matplotlib import pyplot as plt"
   ]
  },
  {
   "attachments": {},
   "cell_type": "markdown",
   "metadata": {},
   "source": [
    "## Lendo o arquivo .csv"
   ]
  },
  {
   "cell_type": "code",
   "execution_count": null,
   "metadata": {},
   "outputs": [],
   "source": [
    "data = pd.read_csv(\"./data/data.csv\", sep=\";\", encoding=\"ISO-8859-1\")\n",
    "data.columns"
   ]
  },
  {
   "cell_type": "code",
   "execution_count": null,
   "metadata": {},
   "outputs": [],
   "source": [
    "\n",
    "uf_sum = data[\"UF\"].value_counts().sum()\n",
    "\n",
    "uf_strings = data[\"UF\"].value_counts().index\n",
    "\n",
    "plt.pie(data[\"UF\"].value_counts(), labels=uf_strings)"
   ]
  },
  {
   "cell_type": "code",
   "execution_count": null,
   "metadata": {},
   "outputs": [],
   "source": [
    "sex_string = data.loc[data[\"Sexo.\"] == 'Masculino    ']\n",
    "sex_count = sex_string.loc[data[\"Espécie\"] == 'Pensão por Morte Acidente do Trabalho        '].value_counts().sum()\n",
    "\n",
    "sex_string = data.loc[data[\"Sexo.\"] == 'Feminino     ']\n",
    "fem_count = sex_string.loc[data[\"Espécie\"] == 'Pensão por Morte Acidente do Trabalho        '].value_counts().sum()\n",
    "\n",
    "sns.barplot(x=[\"Homens acidente de trabalho\", \"Mulheres acidente de trabalho\"], y=[sex_count, fem_count])"
   ]
  },
  {
   "cell_type": "code",
   "execution_count": null,
   "metadata": {},
   "outputs": [],
   "source": [
    "sex_string = data.loc[data[\"Sexo.\"] == 'Masculino    ']\n",
    "print(data[\"Sexo.\"].unique())\n",
    "sex_count = sex_string.loc[data[\"Espécie\"] == 'Auxílio Salario Maternidade                  '].value_counts().sum()\n",
    "\n",
    "sex_string = data.loc[data[\"Sexo.\"] == 'Feminino     ']\n",
    "fem_count = sex_string.loc[data[\"Espécie\"] == 'Auxílio Salario Maternidade                  '].value_counts().sum()\n",
    "\n",
    "print(sex_count)\n",
    "sns.barplot(x=[\"Homens maternidade\", \"Mulheres maternidade\"], y=[sex_count, fem_count])"
   ]
  },
  {
   "cell_type": "code",
   "execution_count": null,
   "metadata": {},
   "outputs": [],
   "source": [
    "\n",
    "dataa = data[\"Qt SM RMI\"]\n",
    "dataaa = np.array(dataa)\n",
    "new_data = []\n",
    "for i, d in enumerate(dataaa):\n",
    "    v = float(d.replace(\",\", \".\"))\n",
    "    new_data.append(v)\n",
    "print(new_data)"
   ]
  }
 ],
 "metadata": {
  "kernelspec": {
   "display_name": "Python 3",
   "language": "python",
   "name": "python3"
  },
  "language_info": {
   "codemirror_mode": {
    "name": "ipython",
    "version": 3
   },
   "file_extension": ".py",
   "mimetype": "text/x-python",
   "name": "python",
   "nbconvert_exporter": "python",
   "pygments_lexer": "ipython3",
   "version": "3.10.8"
  },
  "orig_nbformat": 4
 },
 "nbformat": 4,
 "nbformat_minor": 2
}
